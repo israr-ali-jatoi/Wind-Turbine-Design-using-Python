{
 "cells": [
  {
   "cell_type": "code",
   "execution_count": 1,
   "id": "ff779187-114a-454d-b320-4602495ee889",
   "metadata": {},
   "outputs": [
    {
     "name": "stdout",
     "output_type": "stream",
     "text": [
      "Collecting windpowerlib\n",
      "  Downloading windpowerlib-0.2.2-py3-none-any.whl.metadata (11 kB)\n",
      "Requirement already satisfied: pandas in c:\\users\\mak power\\anaconda3\\lib\\site-packages (from windpowerlib) (2.2.2)\n",
      "Requirement already satisfied: requests in c:\\users\\mak power\\anaconda3\\lib\\site-packages (from windpowerlib) (2.32.2)\n",
      "Requirement already satisfied: numpy>=1.26.0 in c:\\users\\mak power\\anaconda3\\lib\\site-packages (from pandas->windpowerlib) (1.26.4)\n",
      "Requirement already satisfied: python-dateutil>=2.8.2 in c:\\users\\mak power\\anaconda3\\lib\\site-packages (from pandas->windpowerlib) (2.9.0.post0)\n",
      "Requirement already satisfied: pytz>=2020.1 in c:\\users\\mak power\\anaconda3\\lib\\site-packages (from pandas->windpowerlib) (2024.1)\n",
      "Requirement already satisfied: tzdata>=2022.7 in c:\\users\\mak power\\anaconda3\\lib\\site-packages (from pandas->windpowerlib) (2023.3)\n",
      "Requirement already satisfied: charset-normalizer<4,>=2 in c:\\users\\mak power\\anaconda3\\lib\\site-packages (from requests->windpowerlib) (2.0.4)\n",
      "Requirement already satisfied: idna<4,>=2.5 in c:\\users\\mak power\\anaconda3\\lib\\site-packages (from requests->windpowerlib) (3.7)\n",
      "Requirement already satisfied: urllib3<3,>=1.21.1 in c:\\users\\mak power\\anaconda3\\lib\\site-packages (from requests->windpowerlib) (2.2.2)\n",
      "Requirement already satisfied: certifi>=2017.4.17 in c:\\users\\mak power\\anaconda3\\lib\\site-packages (from requests->windpowerlib) (2024.7.4)\n",
      "Requirement already satisfied: six>=1.5 in c:\\users\\mak power\\anaconda3\\lib\\site-packages (from python-dateutil>=2.8.2->pandas->windpowerlib) (1.16.0)\n",
      "Downloading windpowerlib-0.2.2-py3-none-any.whl (74 kB)\n",
      "   ---------------------------------------- 0.0/74.8 kB ? eta -:--:--\n",
      "   ---------------------------------------- 0.0/74.8 kB ? eta -:--:--\n",
      "   ----- ---------------------------------- 10.2/74.8 kB ? eta -:--:--\n",
      "   ---------------- ----------------------- 30.7/74.8 kB 325.1 kB/s eta 0:00:01\n",
      "   --------------------- ------------------ 41.0/74.8 kB 326.8 kB/s eta 0:00:01\n",
      "   ---------------------------------------- 74.8/74.8 kB 414.1 kB/s eta 0:00:00\n",
      "Installing collected packages: windpowerlib\n",
      "Successfully installed windpowerlib-0.2.2\n"
     ]
    }
   ],
   "source": [
    "!pip install windpowerlib"
   ]
  },
  {
   "cell_type": "code",
   "execution_count": 92,
   "id": "b234bf6c-ea94-44bc-b914-f6ec7ba62ef4",
   "metadata": {},
   "outputs": [],
   "source": [
    "import pandas as pd\n",
    "import matplotlib.pyplot as plt\n",
    "from windpowerlib import ModelChain, WindTurbine\n",
    "from windpowerlib import data as wt"
   ]
  },
  {
   "cell_type": "code",
   "execution_count": 94,
   "id": "c64312f7-abe3-4126-9bbd-db75b3e3b1e2",
   "metadata": {},
   "outputs": [
    {
     "name": "stderr",
     "output_type": "stream",
     "text": [
      "C:\\Users\\MAK POWER\\AppData\\Local\\Temp\\ipykernel_6968\\3180670114.py:1: FutureWarning: The argument 'date_parser' is deprecated and will be removed in a future version. Please use 'date_format' instead, or read your data in as 'object' dtype and then call 'to_datetime'.\n",
      "  data=pd.read_csv('weather-montreal.csv',index_col=0, header=[0,1], date_parser=lambda idx:pd.to_datetime(idx,utc=True))\n"
     ]
    }
   ],
   "source": [
    "data=pd.read_csv('weather-montreal.csv',index_col=0, header=[0,1], date_parser=lambda idx:pd.to_datetime(idx,utc=True))"
   ]
  },
  {
   "cell_type": "code",
   "execution_count": 96,
   "id": "5fe4f0e0-b368-4400-a6d1-7ab6961e742b",
   "metadata": {},
   "outputs": [
    {
     "data": {
      "text/html": [
       "<div>\n",
       "<style scoped>\n",
       "    .dataframe tbody tr th:only-of-type {\n",
       "        vertical-align: middle;\n",
       "    }\n",
       "\n",
       "    .dataframe tbody tr th {\n",
       "        vertical-align: top;\n",
       "    }\n",
       "\n",
       "    .dataframe thead tr th {\n",
       "        text-align: left;\n",
       "    }\n",
       "</style>\n",
       "<table border=\"1\" class=\"dataframe\">\n",
       "  <thead>\n",
       "    <tr>\n",
       "      <th>variable_name</th>\n",
       "      <th>pressure</th>\n",
       "      <th>temperature</th>\n",
       "      <th>wind_speed</th>\n",
       "      <th>roughness_length</th>\n",
       "      <th>temperature</th>\n",
       "      <th>wind_speed</th>\n",
       "    </tr>\n",
       "    <tr>\n",
       "      <th>height</th>\n",
       "      <th>0</th>\n",
       "      <th>2</th>\n",
       "      <th>10</th>\n",
       "      <th>0</th>\n",
       "      <th>10</th>\n",
       "      <th>50</th>\n",
       "    </tr>\n",
       "  </thead>\n",
       "  <tbody>\n",
       "    <tr>\n",
       "      <th>2019-01-01 00:00:00+00:00</th>\n",
       "      <td>99760</td>\n",
       "      <td>273.37</td>\n",
       "      <td>7.11</td>\n",
       "      <td>0.15</td>\n",
       "      <td>273.27</td>\n",
       "      <td>9.85</td>\n",
       "    </tr>\n",
       "    <tr>\n",
       "      <th>2019-01-01 01:00:00+00:00</th>\n",
       "      <td>99480</td>\n",
       "      <td>273.56</td>\n",
       "      <td>6.87</td>\n",
       "      <td>0.15</td>\n",
       "      <td>273.46</td>\n",
       "      <td>10.08</td>\n",
       "    </tr>\n",
       "    <tr>\n",
       "      <th>2019-01-01 02:00:00+00:00</th>\n",
       "      <td>99200</td>\n",
       "      <td>273.58</td>\n",
       "      <td>6.21</td>\n",
       "      <td>0.15</td>\n",
       "      <td>273.48</td>\n",
       "      <td>9.27</td>\n",
       "    </tr>\n",
       "    <tr>\n",
       "      <th>2019-01-01 03:00:00+00:00</th>\n",
       "      <td>98910</td>\n",
       "      <td>273.61</td>\n",
       "      <td>3.66</td>\n",
       "      <td>0.15</td>\n",
       "      <td>273.51</td>\n",
       "      <td>6.51</td>\n",
       "    </tr>\n",
       "    <tr>\n",
       "      <th>2019-01-01 04:00:00+00:00</th>\n",
       "      <td>98760</td>\n",
       "      <td>273.58</td>\n",
       "      <td>1.26</td>\n",
       "      <td>0.15</td>\n",
       "      <td>273.48</td>\n",
       "      <td>2.28</td>\n",
       "    </tr>\n",
       "    <tr>\n",
       "      <th>...</th>\n",
       "      <td>...</td>\n",
       "      <td>...</td>\n",
       "      <td>...</td>\n",
       "      <td>...</td>\n",
       "      <td>...</td>\n",
       "      <td>...</td>\n",
       "    </tr>\n",
       "    <tr>\n",
       "      <th>2019-12-31 19:00:00+00:00</th>\n",
       "      <td>99430</td>\n",
       "      <td>271.17</td>\n",
       "      <td>2.39</td>\n",
       "      <td>0.15</td>\n",
       "      <td>271.07</td>\n",
       "      <td>3.93</td>\n",
       "    </tr>\n",
       "    <tr>\n",
       "      <th>2019-12-31 20:00:00+00:00</th>\n",
       "      <td>99400</td>\n",
       "      <td>271.35</td>\n",
       "      <td>2.59</td>\n",
       "      <td>0.15</td>\n",
       "      <td>271.25</td>\n",
       "      <td>4.69</td>\n",
       "    </tr>\n",
       "    <tr>\n",
       "      <th>2019-12-31 21:00:00+00:00</th>\n",
       "      <td>99370</td>\n",
       "      <td>271.69</td>\n",
       "      <td>3.28</td>\n",
       "      <td>0.15</td>\n",
       "      <td>271.59</td>\n",
       "      <td>6.39</td>\n",
       "    </tr>\n",
       "    <tr>\n",
       "      <th>2019-12-31 22:00:00+00:00</th>\n",
       "      <td>99330</td>\n",
       "      <td>271.94</td>\n",
       "      <td>4.69</td>\n",
       "      <td>0.15</td>\n",
       "      <td>271.84</td>\n",
       "      <td>7.71</td>\n",
       "    </tr>\n",
       "    <tr>\n",
       "      <th>2019-12-31 23:00:00+00:00</th>\n",
       "      <td>99290</td>\n",
       "      <td>271.67</td>\n",
       "      <td>4.75</td>\n",
       "      <td>0.15</td>\n",
       "      <td>271.57</td>\n",
       "      <td>7.56</td>\n",
       "    </tr>\n",
       "  </tbody>\n",
       "</table>\n",
       "<p>8760 rows × 6 columns</p>\n",
       "</div>"
      ],
      "text/plain": [
       "variable_name             pressure temperature wind_speed roughness_length  \\\n",
       "height                           0           2         10                0   \n",
       "2019-01-01 00:00:00+00:00    99760      273.37       7.11             0.15   \n",
       "2019-01-01 01:00:00+00:00    99480      273.56       6.87             0.15   \n",
       "2019-01-01 02:00:00+00:00    99200      273.58       6.21             0.15   \n",
       "2019-01-01 03:00:00+00:00    98910      273.61       3.66             0.15   \n",
       "2019-01-01 04:00:00+00:00    98760      273.58       1.26             0.15   \n",
       "...                            ...         ...        ...              ...   \n",
       "2019-12-31 19:00:00+00:00    99430      271.17       2.39             0.15   \n",
       "2019-12-31 20:00:00+00:00    99400      271.35       2.59             0.15   \n",
       "2019-12-31 21:00:00+00:00    99370      271.69       3.28             0.15   \n",
       "2019-12-31 22:00:00+00:00    99330      271.94       4.69             0.15   \n",
       "2019-12-31 23:00:00+00:00    99290      271.67       4.75             0.15   \n",
       "\n",
       "variable_name             temperature wind_speed  \n",
       "height                             10         50  \n",
       "2019-01-01 00:00:00+00:00      273.27       9.85  \n",
       "2019-01-01 01:00:00+00:00      273.46      10.08  \n",
       "2019-01-01 02:00:00+00:00      273.48       9.27  \n",
       "2019-01-01 03:00:00+00:00      273.51       6.51  \n",
       "2019-01-01 04:00:00+00:00      273.48       2.28  \n",
       "...                               ...        ...  \n",
       "2019-12-31 19:00:00+00:00      271.07       3.93  \n",
       "2019-12-31 20:00:00+00:00      271.25       4.69  \n",
       "2019-12-31 21:00:00+00:00      271.59       6.39  \n",
       "2019-12-31 22:00:00+00:00      271.84       7.71  \n",
       "2019-12-31 23:00:00+00:00      271.57       7.56  \n",
       "\n",
       "[8760 rows x 6 columns]"
      ]
     },
     "execution_count": 96,
     "metadata": {},
     "output_type": "execute_result"
    }
   ],
   "source": [
    "data"
   ]
  },
  {
   "cell_type": "code",
   "execution_count": 98,
   "id": "0f868330-2e5b-449c-95cf-a6fb570eb62f",
   "metadata": {},
   "outputs": [
    {
     "name": "stderr",
     "output_type": "stream",
     "text": [
      "C:\\Users\\MAK POWER\\anaconda3\\Lib\\site-packages\\windpowerlib\\data.py:103: FutureWarning: Downcasting object dtype arrays on .fillna, .ffill, .bfill is deprecated and will change in a future version. Call result.infer_objects(copy=False) instead. To opt-in to the future behavior, set `pd.set_option('future.no_silent_downcasting', True)`\n",
      "  ).fillna(False)\n"
     ]
    },
    {
     "data": {
      "text/html": [
       "<div>\n",
       "<style scoped>\n",
       "    .dataframe tbody tr th:only-of-type {\n",
       "        vertical-align: middle;\n",
       "    }\n",
       "\n",
       "    .dataframe tbody tr th {\n",
       "        vertical-align: top;\n",
       "    }\n",
       "\n",
       "    .dataframe thead th {\n",
       "        text-align: right;\n",
       "    }\n",
       "</style>\n",
       "<table border=\"1\" class=\"dataframe\">\n",
       "  <thead>\n",
       "    <tr style=\"text-align: right;\">\n",
       "      <th></th>\n",
       "      <th>manufacturer</th>\n",
       "      <th>turbine_type</th>\n",
       "      <th>has_power_curve</th>\n",
       "      <th>has_cp_curve</th>\n",
       "    </tr>\n",
       "  </thead>\n",
       "  <tbody>\n",
       "    <tr>\n",
       "      <th>0</th>\n",
       "      <td>Adwen/Areva</td>\n",
       "      <td>AD116/5000</td>\n",
       "      <td>True</td>\n",
       "      <td>False</td>\n",
       "    </tr>\n",
       "    <tr>\n",
       "      <th>1</th>\n",
       "      <td>Enercon</td>\n",
       "      <td>E-101/3050</td>\n",
       "      <td>True</td>\n",
       "      <td>True</td>\n",
       "    </tr>\n",
       "    <tr>\n",
       "      <th>2</th>\n",
       "      <td>Enercon</td>\n",
       "      <td>E-101/3500</td>\n",
       "      <td>True</td>\n",
       "      <td>True</td>\n",
       "    </tr>\n",
       "    <tr>\n",
       "      <th>3</th>\n",
       "      <td>Enercon</td>\n",
       "      <td>E-115/3000</td>\n",
       "      <td>True</td>\n",
       "      <td>True</td>\n",
       "    </tr>\n",
       "    <tr>\n",
       "      <th>4</th>\n",
       "      <td>Enercon</td>\n",
       "      <td>E-115/3200</td>\n",
       "      <td>True</td>\n",
       "      <td>True</td>\n",
       "    </tr>\n",
       "    <tr>\n",
       "      <th>...</th>\n",
       "      <td>...</td>\n",
       "      <td>...</td>\n",
       "      <td>...</td>\n",
       "      <td>...</td>\n",
       "    </tr>\n",
       "    <tr>\n",
       "      <th>62</th>\n",
       "      <td>Vestas</td>\n",
       "      <td>V80/2000</td>\n",
       "      <td>True</td>\n",
       "      <td>False</td>\n",
       "    </tr>\n",
       "    <tr>\n",
       "      <th>63</th>\n",
       "      <td>Vestas</td>\n",
       "      <td>V90/2000</td>\n",
       "      <td>True</td>\n",
       "      <td>True</td>\n",
       "    </tr>\n",
       "    <tr>\n",
       "      <th>64</th>\n",
       "      <td>Vestas</td>\n",
       "      <td>V90/2000/GS</td>\n",
       "      <td>True</td>\n",
       "      <td>True</td>\n",
       "    </tr>\n",
       "    <tr>\n",
       "      <th>65</th>\n",
       "      <td>Vestas</td>\n",
       "      <td>V90/3000</td>\n",
       "      <td>True</td>\n",
       "      <td>False</td>\n",
       "    </tr>\n",
       "    <tr>\n",
       "      <th>66</th>\n",
       "      <td>aerodyn</td>\n",
       "      <td>SCD168/8000</td>\n",
       "      <td>True</td>\n",
       "      <td>False</td>\n",
       "    </tr>\n",
       "  </tbody>\n",
       "</table>\n",
       "<p>67 rows × 4 columns</p>\n",
       "</div>"
      ],
      "text/plain": [
       "   manufacturer turbine_type  has_power_curve  has_cp_curve\n",
       "0   Adwen/Areva   AD116/5000             True         False\n",
       "1       Enercon   E-101/3050             True          True\n",
       "2       Enercon   E-101/3500             True          True\n",
       "3       Enercon   E-115/3000             True          True\n",
       "4       Enercon   E-115/3200             True          True\n",
       "..          ...          ...              ...           ...\n",
       "62       Vestas     V80/2000             True         False\n",
       "63       Vestas     V90/2000             True          True\n",
       "64       Vestas  V90/2000/GS             True          True\n",
       "65       Vestas     V90/3000             True         False\n",
       "66      aerodyn  SCD168/8000             True         False\n",
       "\n",
       "[67 rows x 4 columns]"
      ]
     },
     "execution_count": 98,
     "metadata": {},
     "output_type": "execute_result"
    }
   ],
   "source": [
    "# First we need to select Wind Turbine\n",
    "Turbine_Type= wt.get_turbine_types(print_out=False)\n",
    "Turbine_Type"
   ]
  },
  {
   "cell_type": "code",
   "execution_count": 100,
   "id": "eb98d5bf-9fd3-4772-8f6d-cc10c11e7703",
   "metadata": {},
   "outputs": [
    {
     "name": "stdout",
     "output_type": "stream",
     "text": [
      "   manufacturer turbine_type  has_power_curve  has_cp_curve\n",
      "1       Enercon   E-101/3050             True          True\n",
      "2       Enercon   E-101/3500             True          True\n",
      "3       Enercon   E-115/3000             True          True\n",
      "4       Enercon   E-115/3200             True          True\n",
      "5       Enercon   E-126/4200             True          True\n",
      "6       Enercon   E-126/7500             True         False\n",
      "7       Enercon   E-126/7580             True         False\n",
      "8       Enercon   E-141/4200             True          True\n",
      "9       Enercon     E-53/800             True          True\n",
      "10      Enercon    E-70/2000             True         False\n",
      "11      Enercon    E-70/2300             True          True\n",
      "12      Enercon    E-82/2000             True          True\n",
      "13      Enercon    E-82/2300             True          True\n",
      "14      Enercon    E-82/2350             True          True\n",
      "15      Enercon    E-82/3000             True          True\n",
      "16      Enercon    E-92/2350             True          True\n",
      "17      Enercon      E48/800             True          True\n"
     ]
    }
   ],
   "source": [
    "print(Turbine_Type[Turbine_Type[\"manufacturer\"].str.contains(\"Enercon\")])"
   ]
  },
  {
   "cell_type": "code",
   "execution_count": 102,
   "id": "e579e44b-9148-442a-ac46-03bcc2a8ca6f",
   "metadata": {},
   "outputs": [
    {
     "name": "stdout",
     "output_type": "stream",
     "text": [
      "   manufacturer turbine_type  has_power_curve  has_cp_curve\n",
      "17      Enercon      E48/800             True          True\n"
     ]
    }
   ],
   "source": [
    "print(Turbine_Type[Turbine_Type[\"turbine_type\"].str.contains(\"E48\")])"
   ]
  },
  {
   "cell_type": "code",
   "execution_count": 104,
   "id": "3f329105-2e47-4829-8ed8-a726632aa97d",
   "metadata": {},
   "outputs": [],
   "source": [
    "selected_turbine= {'turbine_type':'E48/800', 'hub_height':60}"
   ]
  },
  {
   "cell_type": "code",
   "execution_count": 168,
   "id": "e1f90426-e919-4074-80eb-343ed9858765",
   "metadata": {},
   "outputs": [
    {
     "data": {
      "text/plain": [
       "Wind turbine: E48/800 ['nominal power=800000.0 W', 'hub height=60 m', 'rotor diameter=48.0 m', 'power_coefficient_curve=True', 'power_curve=True']"
      ]
     },
     "execution_count": 168,
     "metadata": {},
     "output_type": "execute_result"
    }
   ],
   "source": [
    "turbine=WindTurbine(**selected_turbine)\n",
    "turbine"
   ]
  },
  {
   "cell_type": "code",
   "execution_count": 134,
   "id": "c3f3e931-b13e-412c-9878-1611eca788b8",
   "metadata": {},
   "outputs": [],
   "source": [
    "Turbine_submodels= {\n",
    "    'wind_speed_model':'hellman',\n",
    "    'density_model':'ideal_gas',\n",
    "    'temperature_model':'linear_gradient',\n",
    "    'power_output_model':'power_curve',\n",
    "    'density_correction':True,\n",
    "    'obstacle_height':0,\n",
    "    'hellman_exp':0.25 #wooded countryside\n",
    "}"
   ]
  },
  {
   "cell_type": "code",
   "execution_count": 136,
   "id": "96fde74d-cc79-429d-8894-fadd938bc164",
   "metadata": {},
   "outputs": [
    {
     "data": {
      "text/plain": [
       "{'wind_speed_model': 'hellman',\n",
       " 'density_model': 'ideal_gas',\n",
       " 'temperature_model': 'linear_gradient',\n",
       " 'power_output_model': 'power_curve',\n",
       " 'density_correction': True,\n",
       " 'obstacle_height': 0,\n",
       " 'hellman_exp': 0.25}"
      ]
     },
     "execution_count": 136,
     "metadata": {},
     "output_type": "execute_result"
    }
   ],
   "source": [
    "Turbine_submodels"
   ]
  },
  {
   "cell_type": "code",
   "execution_count": 138,
   "id": "3caab053-37e0-49c7-a5c0-e767af078262",
   "metadata": {},
   "outputs": [],
   "source": [
    "Model=ModelChain(turbine,**Turbine_submodels).run_model(data)"
   ]
  },
  {
   "cell_type": "code",
   "execution_count": 140,
   "id": "30cee37d-9824-455b-8041-8b51793c54d2",
   "metadata": {},
   "outputs": [
    {
     "data": {
      "text/plain": [
       "2019-01-01 00:00:00+00:00    610.887435\n",
       "2019-01-01 01:00:00+00:00    637.450320\n",
       "2019-01-01 02:00:00+00:00    527.086482\n",
       "2019-01-01 03:00:00+00:00    170.394831\n",
       "2019-01-01 04:00:00+00:00      2.012092\n",
       "                                ...    \n",
       "2019-12-31 19:00:00+00:00     30.694634\n",
       "2019-12-31 20:00:00+00:00     58.813546\n",
       "2019-12-31 21:00:00+00:00    163.386687\n",
       "2019-12-31 22:00:00+00:00    295.995062\n",
       "2019-12-31 23:00:00+00:00    275.971883\n",
       "Name: feedin_power_plant, Length: 8760, dtype: float64"
      ]
     },
     "execution_count": 140,
     "metadata": {},
     "output_type": "execute_result"
    }
   ],
   "source": [
    "Turbine_Power_Output=(Model.power_output)/1000\n",
    "Turbine_Power_Output"
   ]
  },
  {
   "cell_type": "code",
   "execution_count": 142,
   "id": "982cd12d-a56e-4091-b731-927b146a08b6",
   "metadata": {},
   "outputs": [
    {
     "data": {
      "image/png": "[encoded data removed]",
      "text/plain": [
       "<Figure size 640x480 with 1 Axes>"
      ]
     },
     "metadata": {},
     "output_type": "display_data"
    }
   ],
   "source": [
    "plt.plot(Turbine_Power_Output, color='blue')\n",
    "plt.xlabel('Date')\n",
    "plt.ylabel('Power')\n",
    "plt.title('Power Output')\n",
    "plt.show()"
   ]
  },
  {
   "cell_type": "code",
   "execution_count": 182,
   "id": "93d53c69-2406-41a0-b273-5d8ab7866370",
   "metadata": {},
   "outputs": [
    {
     "data": {
      "image/png": "[encoded data removed]",
      "text/plain": [
       "<Figure size 640x480 with 1 Axes>"
      ]
     },
     "metadata": {},
     "output_type": "display_data"
    }
   ],
   "source": [
    "if plt:\n",
    "    if turbine.power_curve is not None:\n",
    "        turbine.power_curve.plot(\n",
    "            x='wind_speed', y='value',\n",
    "            title='Enercon E48 power curve')\n",
    "        plt.xlabel('Wind speed in m/s')\n",
    "        plt.ylabel('Power in watt ')\n",
    "        plt.show()"
   ]
  },
  {
   "cell_type": "code",
   "execution_count": null,
   "id": "d07ee62f-7ab6-47cc-8668-d52d587abab3",
   "metadata": {},
   "outputs": [],
   "source": []
  }
 ],
 "metadata": {
  "kernelspec": {
   "display_name": "Python 3 (ipykernel)",
   "language": "python",
   "name": "python3"
  },
  "language_info": {
   "codemirror_mode": {
    "name": "ipython",
    "version": 3
   },
   "file_extension": ".py",
   "mimetype": "text/x-python",
   "name": "python",
   "nbconvert_exporter": "python",
   "pygments_lexer": "ipython3",
   "version": "3.12.4"
  }
 },
 "nbformat": 4,
 "nbformat_minor": 5
}
