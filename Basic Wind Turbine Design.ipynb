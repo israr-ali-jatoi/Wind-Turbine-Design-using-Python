{
 "cells": [
  {
   "cell_type": "code",
   "execution_count": 456,
   "id": "26e19047-8846-4120-ad95-0474feeafb0c",
   "metadata": {},
   "outputs": [],
   "source": [
    "import pandas as pd\n",
    "import matplotlib.pyplot as plt"
   ]
  },
  {
   "cell_type": "code",
   "execution_count": 458,
   "id": "f21bcf70-9269-4b81-8eea-c548e58c8ad7",
   "metadata": {},
   "outputs": [],
   "source": [
    "windspeed= pd.read_csv(\"15 - Wind-Speed.csv\")"
   ]
  },
  {
   "cell_type": "code",
   "execution_count": 460,
   "id": "8233f019-73a4-4a65-bbea-9f5aefff34ca",
   "metadata": {},
   "outputs": [
    {
     "data": {
      "text/html": [
       "<div>\n",
       "<style scoped>\n",
       "    .dataframe tbody tr th:only-of-type {\n",
       "        vertical-align: middle;\n",
       "    }\n",
       "\n",
       "    .dataframe tbody tr th {\n",
       "        vertical-align: top;\n",
       "    }\n",
       "\n",
       "    .dataframe thead th {\n",
       "        text-align: right;\n",
       "    }\n",
       "</style>\n",
       "<table border=\"1\" class=\"dataframe\">\n",
       "  <thead>\n",
       "    <tr style=\"text-align: right;\">\n",
       "      <th></th>\n",
       "      <th>YEAR</th>\n",
       "      <th>MO</th>\n",
       "      <th>DY</th>\n",
       "      <th>HR</th>\n",
       "      <th>WS10M</th>\n",
       "    </tr>\n",
       "  </thead>\n",
       "  <tbody>\n",
       "    <tr>\n",
       "      <th>0</th>\n",
       "      <td>2020</td>\n",
       "      <td>12</td>\n",
       "      <td>31</td>\n",
       "      <td>19</td>\n",
       "      <td>2.61</td>\n",
       "    </tr>\n",
       "    <tr>\n",
       "      <th>1</th>\n",
       "      <td>2020</td>\n",
       "      <td>12</td>\n",
       "      <td>31</td>\n",
       "      <td>20</td>\n",
       "      <td>2.77</td>\n",
       "    </tr>\n",
       "    <tr>\n",
       "      <th>2</th>\n",
       "      <td>2020</td>\n",
       "      <td>12</td>\n",
       "      <td>31</td>\n",
       "      <td>21</td>\n",
       "      <td>2.86</td>\n",
       "    </tr>\n",
       "    <tr>\n",
       "      <th>3</th>\n",
       "      <td>2020</td>\n",
       "      <td>12</td>\n",
       "      <td>31</td>\n",
       "      <td>22</td>\n",
       "      <td>2.87</td>\n",
       "    </tr>\n",
       "    <tr>\n",
       "      <th>4</th>\n",
       "      <td>2020</td>\n",
       "      <td>12</td>\n",
       "      <td>31</td>\n",
       "      <td>23</td>\n",
       "      <td>2.92</td>\n",
       "    </tr>\n",
       "    <tr>\n",
       "      <th>...</th>\n",
       "      <td>...</td>\n",
       "      <td>...</td>\n",
       "      <td>...</td>\n",
       "      <td>...</td>\n",
       "      <td>...</td>\n",
       "    </tr>\n",
       "    <tr>\n",
       "      <th>8755</th>\n",
       "      <td>2021</td>\n",
       "      <td>12</td>\n",
       "      <td>31</td>\n",
       "      <td>14</td>\n",
       "      <td>2.73</td>\n",
       "    </tr>\n",
       "    <tr>\n",
       "      <th>8756</th>\n",
       "      <td>2021</td>\n",
       "      <td>12</td>\n",
       "      <td>31</td>\n",
       "      <td>15</td>\n",
       "      <td>2.65</td>\n",
       "    </tr>\n",
       "    <tr>\n",
       "      <th>8757</th>\n",
       "      <td>2021</td>\n",
       "      <td>12</td>\n",
       "      <td>31</td>\n",
       "      <td>16</td>\n",
       "      <td>2.32</td>\n",
       "    </tr>\n",
       "    <tr>\n",
       "      <th>8758</th>\n",
       "      <td>2021</td>\n",
       "      <td>12</td>\n",
       "      <td>31</td>\n",
       "      <td>17</td>\n",
       "      <td>2.21</td>\n",
       "    </tr>\n",
       "    <tr>\n",
       "      <th>8759</th>\n",
       "      <td>2021</td>\n",
       "      <td>12</td>\n",
       "      <td>31</td>\n",
       "      <td>18</td>\n",
       "      <td>2.12</td>\n",
       "    </tr>\n",
       "  </tbody>\n",
       "</table>\n",
       "<p>8760 rows × 5 columns</p>\n",
       "</div>"
      ],
      "text/plain": [
       "      YEAR  MO  DY  HR  WS10M\n",
       "0     2020  12  31  19   2.61\n",
       "1     2020  12  31  20   2.77\n",
       "2     2020  12  31  21   2.86\n",
       "3     2020  12  31  22   2.87\n",
       "4     2020  12  31  23   2.92\n",
       "...    ...  ..  ..  ..    ...\n",
       "8755  2021  12  31  14   2.73\n",
       "8756  2021  12  31  15   2.65\n",
       "8757  2021  12  31  16   2.32\n",
       "8758  2021  12  31  17   2.21\n",
       "8759  2021  12  31  18   2.12\n",
       "\n",
       "[8760 rows x 5 columns]"
      ]
     },
     "execution_count": 460,
     "metadata": {},
     "output_type": "execute_result"
    }
   ],
   "source": [
    "windspeed"
   ]
  },
  {
   "cell_type": "code",
   "execution_count": 462,
   "id": "a118dad3-8e44-428a-916d-2aa8bf72a695",
   "metadata": {},
   "outputs": [],
   "source": [
    "#windspeed.info()"
   ]
  },
  {
   "cell_type": "code",
   "execution_count": 464,
   "id": "cfaf8e68-3501-4da4-ab95-8e20db13055d",
   "metadata": {},
   "outputs": [],
   "source": [
    "#windspeed.count()"
   ]
  },
  {
   "cell_type": "code",
   "execution_count": 466,
   "id": "41f42cd6-e2a7-49be-92bc-3293e8942fca",
   "metadata": {},
   "outputs": [],
   "source": [
    "ws= windspeed.iloc[ :,4:5]"
   ]
  },
  {
   "cell_type": "code",
   "execution_count": 468,
   "id": "260f8817-b529-4594-ae41-ee93a46b706a",
   "metadata": {},
   "outputs": [
    {
     "data": {
      "text/html": [
       "<div>\n",
       "<style scoped>\n",
       "    .dataframe tbody tr th:only-of-type {\n",
       "        vertical-align: middle;\n",
       "    }\n",
       "\n",
       "    .dataframe tbody tr th {\n",
       "        vertical-align: top;\n",
       "    }\n",
       "\n",
       "    .dataframe thead th {\n",
       "        text-align: right;\n",
       "    }\n",
       "</style>\n",
       "<table border=\"1\" class=\"dataframe\">\n",
       "  <thead>\n",
       "    <tr style=\"text-align: right;\">\n",
       "      <th></th>\n",
       "      <th>WS10M</th>\n",
       "    </tr>\n",
       "  </thead>\n",
       "  <tbody>\n",
       "    <tr>\n",
       "      <th>0</th>\n",
       "      <td>2.61</td>\n",
       "    </tr>\n",
       "    <tr>\n",
       "      <th>1</th>\n",
       "      <td>2.77</td>\n",
       "    </tr>\n",
       "    <tr>\n",
       "      <th>2</th>\n",
       "      <td>2.86</td>\n",
       "    </tr>\n",
       "    <tr>\n",
       "      <th>3</th>\n",
       "      <td>2.87</td>\n",
       "    </tr>\n",
       "    <tr>\n",
       "      <th>4</th>\n",
       "      <td>2.92</td>\n",
       "    </tr>\n",
       "    <tr>\n",
       "      <th>...</th>\n",
       "      <td>...</td>\n",
       "    </tr>\n",
       "    <tr>\n",
       "      <th>8755</th>\n",
       "      <td>2.73</td>\n",
       "    </tr>\n",
       "    <tr>\n",
       "      <th>8756</th>\n",
       "      <td>2.65</td>\n",
       "    </tr>\n",
       "    <tr>\n",
       "      <th>8757</th>\n",
       "      <td>2.32</td>\n",
       "    </tr>\n",
       "    <tr>\n",
       "      <th>8758</th>\n",
       "      <td>2.21</td>\n",
       "    </tr>\n",
       "    <tr>\n",
       "      <th>8759</th>\n",
       "      <td>2.12</td>\n",
       "    </tr>\n",
       "  </tbody>\n",
       "</table>\n",
       "<p>8760 rows × 1 columns</p>\n",
       "</div>"
      ],
      "text/plain": [
       "      WS10M\n",
       "0      2.61\n",
       "1      2.77\n",
       "2      2.86\n",
       "3      2.87\n",
       "4      2.92\n",
       "...     ...\n",
       "8755   2.73\n",
       "8756   2.65\n",
       "8757   2.32\n",
       "8758   2.21\n",
       "8759   2.12\n",
       "\n",
       "[8760 rows x 1 columns]"
      ]
     },
     "execution_count": 468,
     "metadata": {},
     "output_type": "execute_result"
    }
   ],
   "source": [
    "ws"
   ]
  },
  {
   "cell_type": "code",
   "execution_count": 470,
   "id": "717e6122-bdde-473d-b061-2e94f7a9b026",
   "metadata": {},
   "outputs": [],
   "source": [
    "#if we want to convert Km/hr to m/sec\n",
    "#def meter_second(x):\n",
    " #   return (x/3.16)"
   ]
  },
  {
   "cell_type": "code",
   "execution_count": 472,
   "id": "5f91a7a7-4837-4d98-8596-210a035d9f76",
   "metadata": {},
   "outputs": [],
   "source": [
    "#### Given Data:\n",
    "#Rated Power= 25kw, cutin speed=2.5m/s, cutout speed=20m/s\n",
    "#Blade Length=7.6m, S_area=181m2, Hub_height= 16m\n",
    "# Air Density kg/m3\n",
    "Area=181 #m2\n",
    "AD= 1.275\n",
    "Bz=0.593\n",
    "#Efficiency of generator\n",
    "Eff=0.8\n"
   ]
  },
  {
   "cell_type": "code",
   "execution_count": 474,
   "id": "f4cc40e4-e111-4717-9d13-e3fbe724888a",
   "metadata": {},
   "outputs": [],
   "source": [
    "def wind_p(x):\n",
    "    return(0.5*AD*(x**3)*Bz*Eff*Area)/1000 #to convert it in KW divide by 1000"
   ]
  },
  {
   "cell_type": "code",
   "execution_count": 476,
   "id": "8d113b7d-3016-43d7-b6db-31a678ea3f63",
   "metadata": {},
   "outputs": [],
   "source": [
    "wind_power= wind_p(ws)"
   ]
  },
  {
   "cell_type": "code",
   "execution_count": 478,
   "id": "6f55cf99-b76c-4b0b-a8fb-a73c5595314f",
   "metadata": {},
   "outputs": [
    {
     "data": {
      "text/html": [
       "<div>\n",
       "<style scoped>\n",
       "    .dataframe tbody tr th:only-of-type {\n",
       "        vertical-align: middle;\n",
       "    }\n",
       "\n",
       "    .dataframe tbody tr th {\n",
       "        vertical-align: top;\n",
       "    }\n",
       "\n",
       "    .dataframe thead th {\n",
       "        text-align: right;\n",
       "    }\n",
       "</style>\n",
       "<table border=\"1\" class=\"dataframe\">\n",
       "  <thead>\n",
       "    <tr style=\"text-align: right;\">\n",
       "      <th></th>\n",
       "      <th>WS10M</th>\n",
       "    </tr>\n",
       "  </thead>\n",
       "  <tbody>\n",
       "    <tr>\n",
       "      <th>0</th>\n",
       "      <td>0.973251</td>\n",
       "    </tr>\n",
       "    <tr>\n",
       "      <th>1</th>\n",
       "      <td>1.163437</td>\n",
       "    </tr>\n",
       "    <tr>\n",
       "      <th>2</th>\n",
       "      <td>1.280565</td>\n",
       "    </tr>\n",
       "    <tr>\n",
       "      <th>3</th>\n",
       "      <td>1.294044</td>\n",
       "    </tr>\n",
       "    <tr>\n",
       "      <th>4</th>\n",
       "      <td>1.362862</td>\n",
       "    </tr>\n",
       "    <tr>\n",
       "      <th>...</th>\n",
       "      <td>...</td>\n",
       "    </tr>\n",
       "    <tr>\n",
       "      <th>8755</th>\n",
       "      <td>1.113759</td>\n",
       "    </tr>\n",
       "    <tr>\n",
       "      <th>8756</th>\n",
       "      <td>1.018688</td>\n",
       "    </tr>\n",
       "    <tr>\n",
       "      <th>8757</th>\n",
       "      <td>0.683545</td>\n",
       "    </tr>\n",
       "    <tr>\n",
       "      <th>8758</th>\n",
       "      <td>0.590854</td>\n",
       "    </tr>\n",
       "    <tr>\n",
       "      <th>8759</th>\n",
       "      <td>0.521568</td>\n",
       "    </tr>\n",
       "  </tbody>\n",
       "</table>\n",
       "<p>8760 rows × 1 columns</p>\n",
       "</div>"
      ],
      "text/plain": [
       "         WS10M\n",
       "0     0.973251\n",
       "1     1.163437\n",
       "2     1.280565\n",
       "3     1.294044\n",
       "4     1.362862\n",
       "...        ...\n",
       "8755  1.113759\n",
       "8756  1.018688\n",
       "8757  0.683545\n",
       "8758  0.590854\n",
       "8759  0.521568\n",
       "\n",
       "[8760 rows x 1 columns]"
      ]
     },
     "execution_count": 478,
     "metadata": {},
     "output_type": "execute_result"
    }
   ],
   "source": [
    "wind_power"
   ]
  },
  {
   "cell_type": "code",
   "execution_count": 480,
   "id": "e04eb376-024c-4e92-aa9c-54712a866512",
   "metadata": {},
   "outputs": [
    {
     "data": {
      "text/html": [
       "<div>\n",
       "<style scoped>\n",
       "    .dataframe tbody tr th:only-of-type {\n",
       "        vertical-align: middle;\n",
       "    }\n",
       "\n",
       "    .dataframe tbody tr th {\n",
       "        vertical-align: top;\n",
       "    }\n",
       "\n",
       "    .dataframe thead th {\n",
       "        text-align: right;\n",
       "    }\n",
       "</style>\n",
       "<table border=\"1\" class=\"dataframe\">\n",
       "  <thead>\n",
       "    <tr style=\"text-align: right;\">\n",
       "      <th></th>\n",
       "      <th>Power_Output (kW)</th>\n",
       "    </tr>\n",
       "  </thead>\n",
       "  <tbody>\n",
       "    <tr>\n",
       "      <th>0</th>\n",
       "      <td>0.973251</td>\n",
       "    </tr>\n",
       "    <tr>\n",
       "      <th>1</th>\n",
       "      <td>1.163437</td>\n",
       "    </tr>\n",
       "    <tr>\n",
       "      <th>2</th>\n",
       "      <td>1.280565</td>\n",
       "    </tr>\n",
       "    <tr>\n",
       "      <th>3</th>\n",
       "      <td>1.294044</td>\n",
       "    </tr>\n",
       "    <tr>\n",
       "      <th>4</th>\n",
       "      <td>1.362862</td>\n",
       "    </tr>\n",
       "    <tr>\n",
       "      <th>...</th>\n",
       "      <td>...</td>\n",
       "    </tr>\n",
       "    <tr>\n",
       "      <th>8755</th>\n",
       "      <td>1.113759</td>\n",
       "    </tr>\n",
       "    <tr>\n",
       "      <th>8756</th>\n",
       "      <td>1.018688</td>\n",
       "    </tr>\n",
       "    <tr>\n",
       "      <th>8757</th>\n",
       "      <td>0.683545</td>\n",
       "    </tr>\n",
       "    <tr>\n",
       "      <th>8758</th>\n",
       "      <td>0.590854</td>\n",
       "    </tr>\n",
       "    <tr>\n",
       "      <th>8759</th>\n",
       "      <td>0.521568</td>\n",
       "    </tr>\n",
       "  </tbody>\n",
       "</table>\n",
       "<p>8760 rows × 1 columns</p>\n",
       "</div>"
      ],
      "text/plain": [
       "      Power_Output (kW)\n",
       "0              0.973251\n",
       "1              1.163437\n",
       "2              1.280565\n",
       "3              1.294044\n",
       "4              1.362862\n",
       "...                 ...\n",
       "8755           1.113759\n",
       "8756           1.018688\n",
       "8757           0.683545\n",
       "8758           0.590854\n",
       "8759           0.521568\n",
       "\n",
       "[8760 rows x 1 columns]"
      ]
     },
     "execution_count": 480,
     "metadata": {},
     "output_type": "execute_result"
    }
   ],
   "source": [
    "wind_power.rename(columns = {'WS10M':'Power_Output (kW)'}, inplace=True)\n",
    "wind_power"
   ]
  },
  {
   "cell_type": "code",
   "execution_count": 482,
   "id": "bf24661e-4afe-42db-90d2-0ca50577b0b2",
   "metadata": {},
   "outputs": [
    {
     "data": {
      "text/plain": [
       "0.8553098437500001"
      ]
     },
     "execution_count": 482,
     "metadata": {},
     "output_type": "execute_result"
    }
   ],
   "source": [
    "# to find out the power at cutin speed:\n",
    "p_at_cutin=(wind_p(2.5)) \n",
    "p_at_cutin"
   ]
  },
  {
   "cell_type": "code",
   "execution_count": 484,
   "id": "f0dd621b-b782-4862-ad04-f6f6a277e082",
   "metadata": {},
   "outputs": [
    {
     "data": {
      "text/plain": [
       "437.91864000000004"
      ]
     },
     "execution_count": 484,
     "metadata": {},
     "output_type": "execute_result"
    }
   ],
   "source": [
    "# to find out the power at cutout speed:\n",
    "p_at_cutout=(wind_p(20))\n",
    "p_at_cutout"
   ]
  },
  {
   "cell_type": "code",
   "execution_count": 486,
   "id": "8835ad1f-e9c9-4c2e-80c8-83947505ceff",
   "metadata": {},
   "outputs": [],
   "source": [
    "# to incorporate the cutinspeed and cutoutspeed in our geneartion power\n",
    "wind_power.loc[(wind_power['Power_Output (kW)'] >=25) & (wind_power['Power_Output (kW)']<p_at_cutout)]=25\n",
    "wind_power.loc[wind_power['Power_Output (kW)'] >= p_at_cutout] = 0\n",
    "wind_power.loc[wind_power['Power_Output (kW)'] <= p_at_cutin] = 0\n"
   ]
  },
  {
   "cell_type": "code",
   "execution_count": 488,
   "id": "0a94a086-aad6-4de7-9c8e-a59360dfc56e",
   "metadata": {},
   "outputs": [
    {
     "data": {
      "image/png": "[encoded data removed]",
      "text/plain": [
       "<Figure size 640x480 with 1 Axes>"
      ]
     },
     "metadata": {},
     "output_type": "display_data"
    }
   ],
   "source": [
    "#For Visualisation\n",
    "plt.plot(wind_power, c='b')\n",
    "plt.xlabel('hours')\n",
    "plt.ylabel('Power in kW')\n",
    "plt.title('Wind Power')\n",
    "plt.show()"
   ]
  },
  {
   "cell_type": "code",
   "execution_count": 490,
   "id": "e376498b-9743-4b0b-8d08-cb9eb0887f42",
   "metadata": {},
   "outputs": [
    {
     "data": {
      "text/html": [
       "<div>\n",
       "<style scoped>\n",
       "    .dataframe tbody tr th:only-of-type {\n",
       "        vertical-align: middle;\n",
       "    }\n",
       "\n",
       "    .dataframe tbody tr th {\n",
       "        vertical-align: top;\n",
       "    }\n",
       "\n",
       "    .dataframe thead th {\n",
       "        text-align: right;\n",
       "    }\n",
       "</style>\n",
       "<table border=\"1\" class=\"dataframe\">\n",
       "  <thead>\n",
       "    <tr style=\"text-align: right;\">\n",
       "      <th></th>\n",
       "      <th>Power_Output (kW)</th>\n",
       "      <th>WS10M</th>\n",
       "    </tr>\n",
       "  </thead>\n",
       "  <tbody>\n",
       "    <tr>\n",
       "      <th>0</th>\n",
       "      <td>0.0</td>\n",
       "      <td>0.15</td>\n",
       "    </tr>\n",
       "    <tr>\n",
       "      <th>1</th>\n",
       "      <td>0.0</td>\n",
       "      <td>0.15</td>\n",
       "    </tr>\n",
       "    <tr>\n",
       "      <th>2</th>\n",
       "      <td>0.0</td>\n",
       "      <td>0.17</td>\n",
       "    </tr>\n",
       "    <tr>\n",
       "      <th>3</th>\n",
       "      <td>0.0</td>\n",
       "      <td>0.17</td>\n",
       "    </tr>\n",
       "    <tr>\n",
       "      <th>4</th>\n",
       "      <td>0.0</td>\n",
       "      <td>0.19</td>\n",
       "    </tr>\n",
       "    <tr>\n",
       "      <th>...</th>\n",
       "      <td>...</td>\n",
       "      <td>...</td>\n",
       "    </tr>\n",
       "    <tr>\n",
       "      <th>8755</th>\n",
       "      <td>25.0</td>\n",
       "      <td>10.20</td>\n",
       "    </tr>\n",
       "    <tr>\n",
       "      <th>8756</th>\n",
       "      <td>25.0</td>\n",
       "      <td>10.22</td>\n",
       "    </tr>\n",
       "    <tr>\n",
       "      <th>8757</th>\n",
       "      <td>25.0</td>\n",
       "      <td>10.31</td>\n",
       "    </tr>\n",
       "    <tr>\n",
       "      <th>8758</th>\n",
       "      <td>25.0</td>\n",
       "      <td>10.32</td>\n",
       "    </tr>\n",
       "    <tr>\n",
       "      <th>8759</th>\n",
       "      <td>25.0</td>\n",
       "      <td>11.13</td>\n",
       "    </tr>\n",
       "  </tbody>\n",
       "</table>\n",
       "<p>8760 rows × 2 columns</p>\n",
       "</div>"
      ],
      "text/plain": [
       "      Power_Output (kW)  WS10M\n",
       "0                   0.0   0.15\n",
       "1                   0.0   0.15\n",
       "2                   0.0   0.17\n",
       "3                   0.0   0.17\n",
       "4                   0.0   0.19\n",
       "...                 ...    ...\n",
       "8755               25.0  10.20\n",
       "8756               25.0  10.22\n",
       "8757               25.0  10.31\n",
       "8758               25.0  10.32\n",
       "8759               25.0  11.13\n",
       "\n",
       "[8760 rows x 2 columns]"
      ]
     },
     "execution_count": 490,
     "metadata": {},
     "output_type": "execute_result"
    }
   ],
   "source": [
    "DF = pd.concat([wind_power,ws],axis=1)#merge two column together\n",
    "DF.sort_values(by=['WS10M'],ascending=True,ignore_index=True,inplace=True)\n",
    "DF"
   ]
  },
  {
   "cell_type": "code",
   "execution_count": 492,
   "id": "2a64dce9-6852-4b1a-8b76-17e79ca2d879",
   "metadata": {},
   "outputs": [
    {
     "data": {
      "image/png": "[encoded data removed]",
      "text/plain": [
       "<Figure size 640x480 with 1 Axes>"
      ]
     },
     "metadata": {},
     "output_type": "display_data"
    }
   ],
   "source": [
    "plt.plot(DF['WS10M'],DF['Power_Output (kW)'],c = 'r')\n",
    "plt.xlabel('Wind Speed (m/s)')\n",
    "plt.ylabel('Power (kW)')\n",
    "plt.show()"
   ]
  },
  {
   "cell_type": "code",
   "execution_count": null,
   "id": "4305580d-fac2-4d59-b74f-279fd0ddd44a",
   "metadata": {},
   "outputs": [],
   "source": []
  },
  {
   "cell_type": "code",
   "execution_count": null,
   "id": "4cd7a4ae-0f55-43a2-9856-490455f6b08a",
   "metadata": {},
   "outputs": [],
   "source": []
  }
 ],
 "metadata": {
  "kernelspec": {
   "display_name": "Python 3 (ipykernel)",
   "language": "python",
   "name": "python3"
  },
  "language_info": {
   "codemirror_mode": {
    "name": "ipython",
    "version": 3
   },
   "file_extension": ".py",
   "mimetype": "text/x-python",
   "name": "python",
   "nbconvert_exporter": "python",
   "pygments_lexer": "ipython3",
   "version": "3.12.4"
  }
 },
 "nbformat": 4,
 "nbformat_minor": 5
}
